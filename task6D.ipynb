{
 "cells": [
  {
   "cell_type": "markdown",
   "id": "5e5c5e7c-1fe3-452a-8a61-ca36a6071bf2",
   "metadata": {},
   "source": [
    "# Task 6D: pandas vs SQL\n",
    "### Name: Bhuvan Purushothaman Subramani\n",
    "### Student Number: 224113776\n",
    "### Email: s224113776@deakin.edu.au\n",
    "### Program: Postgraduate (SIT731)"
   ]
  },
  {
   "cell_type": "markdown",
   "id": "e7697f21-90f8-4af8-835f-3d35d1bb05af",
   "metadata": {
    "lines_to_next_cell": 2
   },
   "source": [
    "# *Introduction*\n",
    " * This notebook demonstrates how SQL-style queries can be implemented using the pandas library in Python.\n",
    " * The dataset used is `nycflights13`, which includes flight, weather, plane, airline, and airport data for all flights that departed from NYC in 2013.\n",
    " * We compare SQL results from a SQLite database to equivalent pandas results and verify their correctness.\n"
   ]
  },
  {
   "cell_type": "code",
   "execution_count": 152,
   "id": "7d153d42",
   "metadata": {},
   "outputs": [],
   "source": [
    "# *Imports*\n",
    "import pandas as pd\n",
    "import sqlite3\n",
    "# Load CSV files into pandas (assumes files are in the same folder as this script)*\n",
    "flights = pd.read_csv(\"flights.csv\", comment=\"#\")\n",
    "airlines = pd.read_csv(\"airlines.csv\", comment=\"#\")\n",
    "airports = pd.read_csv(\"airports.csv\", comment=\"#\")\n",
    "planes = pd.read_csv(\"planes.csv\", comment=\"#\")\n",
    "weather = pd.read_csv(\"weather.csv\", comment=\"#\")"
   ]
  },
  {
   "cell_type": "code",
   "execution_count": 154,
   "id": "ff342a37",
   "metadata": {},
   "outputs": [
    {
     "name": "stdout",
     "output_type": "stream",
     "text": [
      "Data loaded into SQLite and pandas.\n"
     ]
    }
   ],
   "source": [
    "# Create SQLite database and export DataFrames*\n",
    "conn = sqlite3.connect(\"flights.db\")\n",
    "\n",
    "flights.to_sql(\"flights\", conn, if_exists=\"replace\", index=False)\n",
    "airlines.to_sql(\"airlines\", conn, if_exists=\"replace\", index=False)\n",
    "airports.to_sql(\"airports\", conn, if_exists=\"replace\", index=False)\n",
    "planes.to_sql(\"planes\", conn, if_exists=\"replace\", index=False)\n",
    "weather.to_sql(\"weather\", conn, if_exists=\"replace\", index=False)\n",
    "\n",
    "print(\"Data loaded into SQLite and pandas.\")"
   ]
  },
  {
   "cell_type": "markdown",
   "id": "3e059af0-04ab-4e8a-ab47-54c66805d56e",
   "metadata": {},
   "source": [
    "### *Query 1 - Distinct Engine Types*\n",
    "*Explanation:*\n",
    "This query retrieves all unique engine types present in the planes dataset.\n",
    "- SQL: SELECT DISTINCT engine FROM planes\n",
    "- pandas: Use drop_duplicates() on the 'engine' column."
   ]
  },
  {
   "cell_type": "code",
   "execution_count": 157,
   "id": "33b6fb35-72a5-4320-8000-0b9aa105c4cf",
   "metadata": {},
   "outputs": [
    {
     "name": "stdout",
     "output_type": "stream",
     "text": [
      "Query 1 passed: pandas and SQL results match.\n"
     ]
    }
   ],
   "source": [
    "query1_sql = pd.read_sql_query(\"\"\"\n",
    "    SELECT DISTINCT engine FROM planes\n",
    "\"\"\", conn)\n",
    "\n",
    "query1_pandas = planes[['engine']].drop_duplicates().reset_index(drop=True)\n",
    "\n",
    "pd.testing.assert_frame_equal(query1_sql.sort_values(by=\"engine\").reset_index(drop=True),\n",
    "                              query1_pandas.sort_values(by=\"engine\").reset_index(drop=True))\n",
    "\n",
    "print(\"Query 1 passed: pandas and SQL results match.\")"
   ]
  },
  {
   "cell_type": "markdown",
   "id": "14091f99-349e-48c8-864c-1a5255da5588",
   "metadata": {},
   "source": [
    "### *Query 2 - Distinct type and engine combinations*\n",
    "*Explanation:*\n",
    "This query lists all unique (type, engine) combinations in the planes dataset.\n",
    "We use drop_duplicates on both columns together."
   ]
  },
  {
   "cell_type": "code",
   "execution_count": 160,
   "id": "60fad361",
   "metadata": {},
   "outputs": [
    {
     "name": "stdout",
     "output_type": "stream",
     "text": [
      "Query 2 passed: pandas and SQL results match.\n"
     ]
    }
   ],
   "source": [
    "query2_sql = pd.read_sql_query(\"\"\"\n",
    "    SELECT DISTINCT type, engine FROM planes\n",
    "\"\"\", conn)\n",
    "\n",
    "query2_pandas = planes[['type', 'engine']].drop_duplicates().reset_index(drop=True)\n",
    "\n",
    "pd.testing.assert_frame_equal(query2_sql.sort_values(by=[\"type\", \"engine\"]).reset_index(drop=True),\n",
    "                              query2_pandas.sort_values(by=[\"type\", \"engine\"]).reset_index(drop=True))\n",
    "\n",
    "print(\"Query 2 passed: pandas and SQL results match.\")"
   ]
  },
  {
   "cell_type": "markdown",
   "id": "9b69bd8b",
   "metadata": {},
   "source": [
    "### *Query 3 - Count of Planes by Engine Type*\n",
    "*Explanation:*\n",
    "This query counts the number of planes for each engine type.\n",
    "- SQL: SELECT COUNT(*), engine FROM planes GROUP BY engine\n",
    "- pandas: Use groupby() and count()."
   ]
  },
  {
   "cell_type": "code",
   "execution_count": 163,
   "id": "a68a7315",
   "metadata": {
    "lines_to_next_cell": 2
   },
   "outputs": [
    {
     "name": "stdout",
     "output_type": "stream",
     "text": [
      "Query 3 passed: pandas and SQL results match.\n"
     ]
    }
   ],
   "source": [
    "# SQL solution\n",
    "query3_sql = pd.read_sql_query(\"\"\"\n",
    "    SELECT count(*), engine FROM planes GROUP BY engine\n",
    "\"\"\", conn)\n",
    "\n",
    "# pandas solution\n",
    "query3_pandas = planes.groupby('engine', as_index=False).size().rename(columns={'size': 'count'})\n",
    "\n",
    "# Rename the 'count' column to match SQL result column name 'count(*)'\n",
    "query3_pandas = query3_pandas.rename(columns={'count': 'count(*)'})\n",
    "\n",
    "# Reorder pandas columns to match SQL result order\n",
    "query3_pandas = query3_pandas[['count(*)', 'engine']]\n",
    "\n",
    "# Sort before comparing to handle row order differences\n",
    "pd.testing.assert_frame_equal(query3_sql.sort_values(by=\"engine\").reset_index(drop=True),\n",
    "                              query3_pandas.sort_values(by=\"engine\").reset_index(drop=True))\n",
    "\n",
    "print(\"Query 3 passed: pandas and SQL results match.\")"
   ]
  },
  {
   "cell_type": "markdown",
   "id": "8d12cef6",
   "metadata": {},
   "source": [
    "### *Query 4 - Count of Planes by Engine and Type*\n",
    "*Explanation:*\n",
    "This query counts the number of planes grouped by both engine type and plane type.\n",
    "- SQL: SELECT COUNT(*), engine, type FROM planes GROUP BY engine, type\n",
    "- pandas: Use groupby() on both columns and size()."
   ]
  },
  {
   "cell_type": "code",
   "execution_count": 169,
   "id": "7145c8b0",
   "metadata": {
    "lines_to_next_cell": 2
   },
   "outputs": [
    {
     "name": "stdout",
     "output_type": "stream",
     "text": [
      "Query 4 passed: pandas and SQL results match.\n"
     ]
    }
   ],
   "source": [
    "# SQL solution\n",
    "query4_sql = pd.read_sql_query(\"\"\"\n",
    "    SELECT COUNT(*), engine, type FROM planes GROUP BY engine, type\n",
    "\"\"\", conn)\n",
    "\n",
    "# pandas solution\n",
    "query4_pandas = planes.groupby(['engine', 'type']).size().reset_index(name='count')\n",
    "\n",
    "# Rename the 'count' column to match SQL result column name 'COUNT(*)'\n",
    "query4_pandas = query4_pandas.rename(columns={'count': 'COUNT(*)'})\n",
    "\n",
    "# Reorder pandas columns to match SQL result order\n",
    "query4_pandas = query4_pandas[['COUNT(*)', 'engine', 'type']]\n",
    "\n",
    "# Sort before comparing to handle row order differences\n",
    "pd.testing.assert_frame_equal(query4_sql.sort_values(by=[\"engine\", \"type\"]).reset_index(drop=True),\n",
    "                              query4_pandas.sort_values(by=[\"engine\", \"type\"]).reset_index(drop=True))\n",
    "\n",
    "print(\"Query 4 passed: pandas and SQL results match.\")"
   ]
  },
  {
   "cell_type": "markdown",
   "id": "80c49f14",
   "metadata": {},
   "source": [
    "### *Query 5 - Minimum, Average, and Maximum Year by Engine and Manufacturer*\n",
    "*Explanation:*\n",
    "This query computes the minimum, average, and maximum plane manufacturing year for each engine type and manufacturer.\n",
    "- SQL: SELECT MIN(year), AVG(year), MAX(year), engine, manufacturer FROM planes GROUP BY engine, manufacturer\n",
    "- pandas: Use groupby() and aggregation functions like min(), mean(), and max()."
   ]
  },
  {
   "cell_type": "code",
   "execution_count": 171,
   "id": "cb7a00e6",
   "metadata": {
    "lines_to_next_cell": 2
   },
   "outputs": [
    {
     "name": "stdout",
     "output_type": "stream",
     "text": [
      "Query 5 passed: pandas and SQL results match.\n"
     ]
    }
   ],
   "source": [
    "# SQL solution\n",
    "query5_sql = pd.read_sql_query(\"\"\"\n",
    "    SELECT MIN(year), AVG(year), MAX(year), engine, manufacturer\n",
    "    FROM planes\n",
    "    GROUP BY engine, manufacturer\n",
    "\"\"\", conn)\n",
    "\n",
    "# pandas solution\n",
    "query5_pandas = planes.groupby(['engine', 'manufacturer'])['year'].agg(['min', 'mean', 'max']).reset_index()\n",
    "\n",
    "# Rename pandas columns to match SQL result\n",
    "query5_pandas = query5_pandas.rename(columns={\n",
    "    'min': 'MIN(year)',\n",
    "    'mean': 'AVG(year)',\n",
    "    'max': 'MAX(year)'\n",
    "})\n",
    "\n",
    "# Reorder columns to match SQL output order\n",
    "query5_pandas = query5_pandas[['MIN(year)', 'AVG(year)', 'MAX(year)', 'engine', 'manufacturer']]\n",
    "\n",
    "# Sort before comparing\n",
    "pd.testing.assert_frame_equal(\n",
    "    query5_sql.sort_values(by=[\"engine\", \"manufacturer\"]).reset_index(drop=True),\n",
    "    query5_pandas.sort_values(by=[\"engine\", \"manufacturer\"]).reset_index(drop=True)\n",
    ")\n",
    "\n",
    "print(\"Query 5 passed: pandas and SQL results match.\")"
   ]
  },
  {
   "cell_type": "markdown",
   "id": "1bca05fc",
   "metadata": {},
   "source": [
    "### *Query 6 - Planes with Non-Null Speed*\n",
    "*Explanation:*\n",
    "This query retrieves all planes where the speed is not null.\n",
    "- SQL: SELECT * FROM planes WHERE speed IS NOT NULL\n",
    "- pandas: Filter the dataframe to exclude rows where 'speed' is null."
   ]
  },
  {
   "cell_type": "code",
   "execution_count": 173,
   "id": "af826682",
   "metadata": {},
   "outputs": [
    {
     "name": "stdout",
     "output_type": "stream",
     "text": [
      "Query 6 passed: pandas and SQL results match.\n"
     ]
    }
   ],
   "source": [
    "query6_sql = pd.read_sql_query(\"\"\"\n",
    "    SELECT * FROM planes WHERE speed IS NOT NULL\n",
    "\"\"\", conn)\n",
    "\n",
    "query6_pandas = planes[planes['speed'].notnull()]\n",
    "\n",
    "pd.testing.assert_frame_equal(query6_sql.sort_values(by=\"tailnum\").reset_index(drop=True),\n",
    "                              query6_pandas.sort_values(by=\"tailnum\").reset_index(drop=True))\n",
    "\n",
    "print(\"Query 6 passed: pandas and SQL results match.\")"
   ]
  },
  {
   "cell_type": "markdown",
   "id": "b256f235",
   "metadata": {},
   "source": [
    "### *Query 7 - Planes with Seats between 150 and 210 and Year >= 2011*\n",
    "*Explanation:*\n",
    "This query retrieves the tailnum of planes where seats are between 150 and 210 and the year is greater than or equal to 2011.\n",
    "- SQL: SELECT tailnum FROM planes WHERE seats BETWEEN 150 AND 210 AND year >= 2011\n",
    "- pandas: Filter the dataframe based on the conditions."
   ]
  },
  {
   "cell_type": "code",
   "execution_count": 128,
   "id": "5ea996dd",
   "metadata": {
    "lines_to_next_cell": 2
   },
   "outputs": [
    {
     "name": "stdout",
     "output_type": "stream",
     "text": [
      "Query 7 passed: pandas and SQL results match.\n"
     ]
    }
   ],
   "source": [
    "# SQL solution\n",
    "query7_sql = pd.read_sql_query(\"\"\"\n",
    "    SELECT tailnum FROM planes\n",
    "    WHERE seats BETWEEN 150 AND 210 AND year >= 2011\n",
    "\"\"\", conn)\n",
    "\n",
    "# pandas solution\n",
    "query7_pandas = planes[(planes['seats'] >= 150) & (planes['seats'] <= 210) & (planes['year'] >= 2011)][['tailnum']]\n",
    "\n",
    "# Sort before comparing\n",
    "pd.testing.assert_frame_equal(\n",
    "    query7_sql.sort_values(by=\"tailnum\").reset_index(drop=True),\n",
    "    query7_pandas.sort_values(by=\"tailnum\").reset_index(drop=True)\n",
    ")\n",
    "\n",
    "print(\"Query 7 passed: pandas and SQL results match.\")"
   ]
  },
  {
   "cell_type": "markdown",
   "id": "271832d8",
   "metadata": {},
   "source": [
    "### *Query 8 - Planes from Specific Manufacturers with Seats > 390*\n",
    "*Explanation:*\n",
    "This query retrieves planes from specific manufacturers (BOEING, AIRBUS, EMBRAER) with more than 390 seats.\n",
    "- SQL: SELECT tailnum, manufacturer, seats FROM planes WHERE manufacturer IN (\"BOEING\", \"AIRBUS\", \"EMBRAER\") AND seats > 390\n",
    "- pandas: Filter the dataframe based on the manufacturer and seats conditions."
   ]
  },
  {
   "cell_type": "code",
   "execution_count": 130,
   "id": "a56779fb",
   "metadata": {
    "lines_to_next_cell": 0
   },
   "outputs": [
    {
     "name": "stdout",
     "output_type": "stream",
     "text": [
      "Query 8 passed: pandas and SQL results match.\n"
     ]
    }
   ],
   "source": [
    "query8_sql = pd.read_sql_query(\"\"\"\n",
    "    SELECT tailnum, manufacturer, seats FROM planes\n",
    "    WHERE manufacturer IN (\"BOEING\", \"AIRBUS\", \"EMBRAER\") AND seats > 390\n",
    "\"\"\", conn)\n",
    "\n",
    "query8_pandas = planes[(planes['manufacturer'].isin([\"BOEING\", \"AIRBUS\", \"EMBRAER\"])) & (planes['seats'] > 390)][['tailnum', 'manufacturer', 'seats']]\n",
    "\n",
    "pd.testing.assert_frame_equal(query8_sql.sort_values(by=\"tailnum\").reset_index(drop=True),\n",
    "                              query8_pandas.sort_values(by=\"tailnum\").reset_index(drop=True))\n",
    "\n",
    "print(\"Query 8 passed: pandas and SQL results match.\")"
   ]
  },
  {
   "cell_type": "markdown",
   "id": "b526fb20",
   "metadata": {},
   "source": [
    "### *Query 9 - Distinct Year and Seats, Ordered by Year and Seats*\n",
    "*Explanation:*\n",
    "This query retrieves distinct combinations of year and seats, ordered by year ascending and seats descending.\n",
    "- SQL: SELECT DISTINCT year, seats FROM planes WHERE year >= 2012 ORDER BY year ASC, seats DESC\n",
    "- pandas: Use drop_duplicates() and sort_values()."
   ]
  },
  {
   "cell_type": "code",
   "execution_count": 132,
   "id": "05e5fafe",
   "metadata": {},
   "outputs": [
    {
     "name": "stdout",
     "output_type": "stream",
     "text": [
      "Query 9 passed: pandas and SQL results match.\n"
     ]
    }
   ],
   "source": [
    "query9_sql = pd.read_sql_query(\"\"\"\n",
    "    SELECT DISTINCT year, seats FROM planes\n",
    "    WHERE year >= 2012 ORDER BY year ASC, seats DESC\n",
    "\"\"\", conn)\n",
    "\n",
    "query9_pandas = planes[planes['year'] >= 2012][['year', 'seats']].drop_duplicates().sort_values(by=['year', 'seats'], ascending=[True, False]).reset_index(drop=True)\n",
    "\n",
    "pd.testing.assert_frame_equal(query9_sql.sort_values(by=[\"year\", \"seats\"], ascending=[True, False]).reset_index(drop=True),\n",
    "                              query9_pandas.sort_values(by=[\"year\", \"seats\"], ascending=[True, False]).reset_index(drop=True))\n",
    "\n",
    "print(\"Query 9 passed: pandas and SQL results match.\")"
   ]
  },
  {
   "cell_type": "markdown",
   "id": "d208a011",
   "metadata": {},
   "source": [
    "### *Query 10 - Distinct Year and Seats, Ordered by Seats and Year*\n",
    "*Explanation:*\n",
    "This query retrieves distinct combinations of year and seats, ordered by seats descending and year ascending.\n",
    "- SQL: SELECT DISTINCT year, seats FROM planes WHERE year >= 2012 ORDER BY seats DESC, year ASC\n",
    "- pandas: Use drop_duplicates() and sort_values()."
   ]
  },
  {
   "cell_type": "code",
   "execution_count": 134,
   "id": "97fef6c6",
   "metadata": {},
   "outputs": [
    {
     "name": "stdout",
     "output_type": "stream",
     "text": [
      "Query 10 passed: pandas and SQL results match.\n"
     ]
    }
   ],
   "source": [
    "query10_sql = pd.read_sql_query(\"\"\"\n",
    "    SELECT DISTINCT year, seats FROM planes\n",
    "    WHERE year >= 2012 ORDER BY seats DESC, year ASC\n",
    "\"\"\", conn)\n",
    "\n",
    "query10_pandas = planes[planes['year'] >= 2012][['year', 'seats']].drop_duplicates().sort_values(by=['seats', 'year'], ascending=[False, True]).reset_index(drop=True)\n",
    "\n",
    "pd.testing.assert_frame_equal(query10_sql.sort_values(by=[\"seats\", \"year\"], ascending=[False, True]).reset_index(drop=True),\n",
    "                              query10_pandas.sort_values(by=[\"seats\", \"year\"], ascending=[False, True]).reset_index(drop=True))\n",
    "\n",
    "print(\"Query 10 passed: pandas and SQL results match.\")"
   ]
  },
  {
   "cell_type": "markdown",
   "id": "17df302b",
   "metadata": {},
   "source": [
    "### *Query 11 - Count of Manufacturers with Planes Having More Than 200 Seats*\n",
    "*Explanation:*\n",
    "This query counts how many planes with more than 200 seats exist for each manufacturer.\n",
    "- SQL: SELECT manufacturer, COUNT(*) FROM planes WHERE seats > 200 GROUP BY manufacturer\n",
    "- pandas: Use groupby() and size() with a condition on the seats."
   ]
  },
  {
   "cell_type": "code",
   "execution_count": 136,
   "id": "3da6362b",
   "metadata": {
    "lines_to_next_cell": 2
   },
   "outputs": [
    {
     "name": "stdout",
     "output_type": "stream",
     "text": [
      "Query 11 passed: pandas and SQL results match.\n"
     ]
    }
   ],
   "source": [
    "# SQL solution\n",
    "query11_sql = pd.read_sql_query(\"\"\"\n",
    "    SELECT manufacturer, COUNT(*) FROM planes\n",
    "    WHERE seats > 200 GROUP BY manufacturer\n",
    "\"\"\", conn)\n",
    "\n",
    "# Rename SQL column for consistency\n",
    "query11_sql = query11_sql.rename(columns={'COUNT(*)': 'count'})\n",
    "\n",
    "# pandas solution\n",
    "query11_pandas = planes[planes['seats'] > 200].groupby('manufacturer').size().reset_index(name='count')\n",
    "\n",
    "# Compare after sorting\n",
    "pd.testing.assert_frame_equal(\n",
    "    query11_sql.sort_values(by=\"manufacturer\").reset_index(drop=True),\n",
    "    query11_pandas.sort_values(by=\"manufacturer\").reset_index(drop=True)\n",
    ")\n",
    "\n",
    "print(\"Query 11 passed: pandas and SQL results match.\")"
   ]
  },
  {
   "cell_type": "markdown",
   "id": "e5e38773",
   "metadata": {},
   "source": [
    "### *Query 12 - Manufacturers with More Than 10 Planes*\n",
    "*Explanation:*\n",
    "This query retrieves manufacturers that have more than 10 planes.\n",
    "- SQL: SELECT manufacturer, COUNT(*) FROM planes GROUP BY manufacturer HAVING COUNT(*) > 10\n",
    "- pandas: Use groupby() and size() with a filter."
   ]
  },
  {
   "cell_type": "code",
   "execution_count": 138,
   "id": "5cee0caf",
   "metadata": {
    "lines_to_next_cell": 2
   },
   "outputs": [
    {
     "name": "stdout",
     "output_type": "stream",
     "text": [
      "Query 12 passed: pandas and SQL results match.\n"
     ]
    }
   ],
   "source": [
    "# SQL solution\n",
    "query12_sql = pd.read_sql_query(\"\"\"\n",
    "    SELECT manufacturer, COUNT(*) FROM planes\n",
    "    GROUP BY manufacturer HAVING COUNT(*) > 10\n",
    "\"\"\", conn)\n",
    "\n",
    "# Rename SQL column to match pandas\n",
    "query12_sql = query12_sql.rename(columns={'COUNT(*)': 'count'})\n",
    "\n",
    "# pandas solution\n",
    "query12_pandas = planes.groupby('manufacturer').size().reset_index(name='count')\n",
    "query12_pandas = query12_pandas[query12_pandas['count'] > 10]\n",
    "\n",
    "# Compare after sorting\n",
    "pd.testing.assert_frame_equal(\n",
    "    query12_sql.sort_values(by=\"manufacturer\").reset_index(drop=True),\n",
    "    query12_pandas.sort_values(by=\"manufacturer\").reset_index(drop=True)\n",
    ")\n",
    "\n",
    "print(\"Query 12 passed: pandas and SQL results match.\")"
   ]
  },
  {
   "cell_type": "markdown",
   "id": "f79cce0b",
   "metadata": {},
   "source": [
    "### *Query 13 - Manufacturers with More Than 10 Planes Having More Than 200 Seats*\n",
    "*Explanation:*\n",
    "This query retrieves manufacturers with more than 10 planes that have more than 200 seats.\n",
    "- SQL: SELECT manufacturer, COUNT(*) FROM planes WHERE seats > 200 GROUP BY manufacturer HAVING COUNT(*) > 10\n",
    "- pandas: Combine groupby(), size(), and a condition on both the seats and count."
   ]
  },
  {
   "cell_type": "code",
   "execution_count": 140,
   "id": "9b1c79cf",
   "metadata": {
    "lines_to_next_cell": 2
   },
   "outputs": [
    {
     "name": "stdout",
     "output_type": "stream",
     "text": [
      "Query 13 passed: pandas and SQL results match.\n"
     ]
    }
   ],
   "source": [
    "# SQL solution\n",
    "query13_sql = pd.read_sql_query(\"\"\"\n",
    "    SELECT manufacturer, COUNT(*) FROM planes\n",
    "    WHERE seats > 200 GROUP BY manufacturer HAVING COUNT(*) > 10\n",
    "\"\"\", conn)\n",
    "\n",
    "# Rename SQL column to match pandas\n",
    "query13_sql = query13_sql.rename(columns={'COUNT(*)': 'count'})\n",
    "\n",
    "# pandas solution\n",
    "query13_pandas = planes[planes['seats'] > 200].groupby('manufacturer').size().reset_index(name='count')\n",
    "query13_pandas = query13_pandas[query13_pandas['count'] > 10]\n",
    "\n",
    "# Compare after sorting\n",
    "pd.testing.assert_frame_equal(\n",
    "    query13_sql.sort_values(by=\"manufacturer\").reset_index(drop=True),\n",
    "    query13_pandas.sort_values(by=\"manufacturer\").reset_index(drop=True)\n",
    ")\n",
    "\n",
    "print(\"Query 13 passed: pandas and SQL results match.\")"
   ]
  },
  {
   "cell_type": "markdown",
   "id": "f18d5a44",
   "metadata": {},
   "source": [
    "### *Query 14 - Top 10 Manufacturers by Plane Count*\n",
    "*Explanation:*\n",
    "This query retrieves the top 10 manufacturers with the most planes.\n",
    "- SQL: SELECT manufacturer, COUNT(*) AS howmany FROM planes GROUP BY manufacturer ORDER BY howmany DESC LIMIT 10\n",
    "- pandas: Use groupby(), size(), and sort_values()."
   ]
  },
  {
   "cell_type": "code",
   "execution_count": 142,
   "id": "12781478",
   "metadata": {},
   "outputs": [
    {
     "name": "stdout",
     "output_type": "stream",
     "text": [
      "Query 14 passed: pandas and SQL results match.\n"
     ]
    }
   ],
   "source": [
    "query14_sql = pd.read_sql_query(\"\"\"\n",
    "    SELECT manufacturer, COUNT(*) AS howmany\n",
    "    FROM planes\n",
    "    GROUP BY manufacturer\n",
    "    ORDER BY howmany DESC LIMIT 10\n",
    "\"\"\", conn)\n",
    "\n",
    "query14_pandas = planes.groupby('manufacturer').size().reset_index(name='howmany')\n",
    "query14_pandas = query14_pandas.sort_values(by='howmany', ascending=False).head(10).reset_index(drop=True)\n",
    "\n",
    "pd.testing.assert_frame_equal(query14_sql.sort_values(by=\"howmany\", ascending=False).reset_index(drop=True),\n",
    "                              query14_pandas.sort_values(by=\"howmany\", ascending=False).reset_index(drop=True))\n",
    "\n",
    "print(\"Query 14 passed: pandas and SQL results match.\")"
   ]
  },
  {
   "cell_type": "markdown",
   "id": "e757f03b",
   "metadata": {},
   "source": [
    "### *Query 15 - Flights with Plane Details*\n",
    "*Explanation:*\n",
    "This query retrieves all flight data along with the year, speed, and seats of the corresponding planes.\n",
    "- SQL: SELECT flights.*, planes.year AS plane_year, planes.speed AS plane_speed, planes.seats AS plane_seats\n",
    "FROM flights LEFT JOIN planes ON flights.tailnum=planes.tailnum\n",
    "- pandas: Use merge() to join the dataframes."
   ]
  },
  {
   "cell_type": "code",
   "execution_count": 144,
   "id": "ace2d99f",
   "metadata": {
    "lines_to_next_cell": 2
   },
   "outputs": [
    {
     "name": "stdout",
     "output_type": "stream",
     "text": [
      "Query 15 passed: pandas and SQL results match.\n"
     ]
    },
    {
     "name": "stderr",
     "output_type": "stream",
     "text": [
      "/var/folders/k_/xq_dwbsn2pg2xl1z2xg8cpr40000gn/T/ipykernel_67873/2204275390.py:18: FutureWarning: Mismatched null-like values None and nan found. In a future version, pandas equality-testing functions (e.g. assert_frame_equal) will consider these not-matching and raise.\n",
      "  pd.testing.assert_frame_equal(\n"
     ]
    }
   ],
   "source": [
    "# SQL version\n",
    "query15_sql = pd.read_sql_query(\"\"\"\n",
    "    SELECT flights.*, planes.year AS plane_year, planes.speed AS plane_speed, planes.seats AS plane_seats\n",
    "    FROM flights LEFT JOIN planes ON flights.tailnum=planes.tailnum\n",
    "\"\"\", conn)\n",
    "\n",
    "# Rename columns in planes BEFORE merge to prevent suffix issues\n",
    "planes_subset = planes.rename(columns={\n",
    "    'year': 'plane_year',\n",
    "    'speed': 'plane_speed',\n",
    "    'seats': 'plane_seats'\n",
    "})[['tailnum', 'plane_year', 'plane_speed', 'plane_seats']]\n",
    "\n",
    "# Perform the merge\n",
    "query15_pandas = pd.merge(flights, planes_subset, on='tailnum', how='left')\n",
    "\n",
    "# Compare after sorting\n",
    "pd.testing.assert_frame_equal(\n",
    "    query15_sql.sort_values(by=\"tailnum\").reset_index(drop=True),\n",
    "    query15_pandas.sort_values(by=\"tailnum\").reset_index(drop=True),\n",
    "    check_dtype=False  # Optional, helps avoid issues with minor dtype differences\n",
    ")\n",
    "\n",
    "print(\"Query 15 passed: pandas and SQL results match.\")"
   ]
  },
  {
   "cell_type": "markdown",
   "id": "b946e307",
   "metadata": {},
   "source": [
    "### *Query 16 - Planes and Airlines Information*\n",
    "*Explanation:*\n",
    "This query retrieves plane and airline details by first getting distinct carrier and tailnum combinations from flights, then joining with planes and airlines.\n",
    "- SQL: SELECT planes.*, airlines.* FROM (SELECT DISTINCT carrier, tailnum FROM flights) AS cartail\n",
    "INNER JOIN planes ON cartail.tailnum=planes.tailnum\n",
    "INNER JOIN airlines ON cartail.carrier=airlines.carrier\n",
    "- pandas: Use merge() twice."
   ]
  },
  {
   "cell_type": "code",
   "execution_count": 167,
   "id": "fbdb5ac0",
   "metadata": {
    "lines_to_next_cell": 2
   },
   "outputs": [
    {
     "name": "stdout",
     "output_type": "stream",
     "text": [
      "Query 16 passed: pandas and SQL results match.\n"
     ]
    }
   ],
   "source": [
    "# SQL version\n",
    "query16_sql = pd.read_sql_query(\"\"\"\n",
    "    SELECT planes.*, airlines.* FROM\n",
    "    (SELECT DISTINCT carrier, tailnum FROM flights) AS cartail\n",
    "    INNER JOIN planes ON cartail.tailnum=planes.tailnum\n",
    "    INNER JOIN airlines ON cartail.carrier=airlines.carrier\n",
    "\"\"\", conn)\n",
    "\n",
    "# Pandas version\n",
    "cartail = flights[['carrier', 'tailnum']].drop_duplicates()\n",
    "query16_pandas = pd.merge(cartail, planes, on='tailnum', how='inner')\n",
    "query16_pandas = pd.merge(query16_pandas, airlines, on='carrier', how='inner')\n",
    "\n",
    "# Reorder columns: planes.* followed by airlines.*\n",
    "planes_cols = planes.columns.tolist()\n",
    "airlines_cols = airlines.columns.tolist()\n",
    "query16_pandas = query16_pandas[planes_cols + airlines_cols]\n",
    "\n",
    "# Compare after sorting\n",
    "pd.testing.assert_frame_equal(\n",
    "    query16_sql.sort_values(by=[\"carrier\", \"tailnum\"]).reset_index(drop=True),\n",
    "    query16_pandas.sort_values(by=[\"carrier\", \"tailnum\"]).reset_index(drop=True),\n",
    "    check_dtype=False\n",
    ")\n",
    "\n",
    "print(\"Query 16 passed: pandas and SQL results match.\")"
   ]
  },
  {
   "cell_type": "code",
   "execution_count": 165,
   "id": "452b2ad3-0dee-4206-9a2f-913987ef939c",
   "metadata": {
    "lines_to_next_cell": 2
   },
   "outputs": [
    {
     "name": "stderr",
     "output_type": "stream",
     "text": [
      "/var/folders/k_/xq_dwbsn2pg2xl1z2xg8cpr40000gn/T/ipykernel_67873/1479203307.py:36: FutureWarning: Mismatched null-like values None and nan found. In a future version, pandas equality-testing functions (e.g. assert_frame_equal) will consider these not-matching and raise.\n",
      "  pd.testing.assert_frame_equal(query17_sql.sort_values(by=\"year\").reset_index(drop=True),\n"
     ]
    },
    {
     "name": "stdout",
     "output_type": "stream",
     "text": [
      "Query 17 passed: pandas and SQL results match.\n"
     ]
    }
   ],
   "source": [
    "# SQL version\n",
    "query17_sql = pd.read_sql_query(\"\"\"\n",
    "    SELECT\n",
    "    flights2.*,\n",
    "    atemp,\n",
    "    ahumid\n",
    "    FROM (\n",
    "        SELECT * FROM flights WHERE origin='EWR'\n",
    "    ) AS flights2\n",
    "    LEFT JOIN (\n",
    "        SELECT\n",
    "        year, month, day,\n",
    "        AVG(temp) AS atemp,\n",
    "        AVG(humid) AS ahumid\n",
    "        FROM weather\n",
    "        WHERE origin='EWR'\n",
    "        GROUP BY year, month, day\n",
    "    ) AS weather2\n",
    "    ON flights2.year=weather2.year\n",
    "    AND flights2.month=weather2.month\n",
    "    AND flights2.day=weather2.day\n",
    "\"\"\", conn)\n",
    "\n",
    "# Pandas version\n",
    "flights2 = flights[flights['origin'] == 'EWR']\n",
    "\n",
    "weather2 = weather[weather['origin'] == 'EWR'].groupby(['year', 'month', 'day'], as_index=False).agg({\n",
    "    'temp': 'mean',\n",
    "    'humid': 'mean'\n",
    "}).rename(columns={'temp': 'atemp', 'humid': 'ahumid'})\n",
    "\n",
    "# Merge the two DataFrames on year, month, and day using a left join\n",
    "query17_pandas = pd.merge(flights2, weather2, on=['year', 'month', 'day'], how='left')\n",
    "\n",
    "# Sort and reset index before comparing\n",
    "pd.testing.assert_frame_equal(query17_sql.sort_values(by=\"year\").reset_index(drop=True),\n",
    "                              query17_pandas.sort_values(by=\"year\").reset_index(drop=True))\n",
    "\n",
    "print(\"Query 17 passed: pandas and SQL results match.\")"
   ]
  }
 ],
 "metadata": {
  "jupytext": {
   "cell_metadata_filter": "-all",
   "formats": "ipynb,py:percent"
  },
  "kernelspec": {
   "display_name": "Python [conda env:base] *",
   "language": "python",
   "name": "conda-base-py"
  },
  "language_info": {
   "codemirror_mode": {
    "name": "ipython",
    "version": 3
   },
   "file_extension": ".py",
   "mimetype": "text/x-python",
   "name": "python",
   "nbconvert_exporter": "python",
   "pygments_lexer": "ipython3",
   "version": "3.12.2"
  }
 },
 "nbformat": 4,
 "nbformat_minor": 5
}
