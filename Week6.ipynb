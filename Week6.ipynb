{
 "cells": [
  {
   "cell_type": "code",
   "execution_count": 7,
   "id": "f99d4454-e9d1-42bd-9ba9-8e41690c68a0",
   "metadata": {},
   "outputs": [],
   "source": [
    "import pandas as pd\n",
    "import sqlite3\n",
    "\n",
    "conn = sqlite3.connect(\"flights.db\")"
   ]
  },
  {
   "cell_type": "code",
   "execution_count": 9,
   "id": "56f992ad-c8c6-48d9-ba07-a0206bb2e35a",
   "metadata": {},
   "outputs": [
    {
     "data": {
      "text/plain": [
       "3322"
      ]
     },
     "execution_count": 9,
     "metadata": {},
     "output_type": "execute_result"
    }
   ],
   "source": [
    "planes = pd.read_csv(\"planes.csv\", comment=\"#\")\n",
    "planes.to_sql(\"planes\", conn, if_exists=\"replace\", index=False)"
   ]
  },
  {
   "cell_type": "code",
   "execution_count": 13,
   "id": "92ac5dea-1257-4717-a83e-e94f2d81f617",
   "metadata": {},
   "outputs": [],
   "source": [
    "task1_sql = pd.read_sql_query(\"\"\"\n",
    "SELECT DISTINCT engine FROM planes\n",
    "\"\"\", conn)"
   ]
  },
  {
   "cell_type": "code",
   "execution_count": 21,
   "id": "497c34ae-999f-44d2-8760-8f52e325c75d",
   "metadata": {},
   "outputs": [
    {
     "name": "stdout",
     "output_type": "stream",
     "text": [
      "             engine\n",
      "0         Turbo-fan\n",
      "51        Turbo-jet\n",
      "424   Reciprocating\n",
      "686         4 Cycle\n",
      "811     Turbo-shaft\n",
      "1045     Turbo-prop\n"
     ]
    }
   ],
   "source": [
    "task1_my = planes[[\"engine\"]].drop_duplicates()\n",
    "print(task1_my)"
   ]
  },
  {
   "cell_type": "code",
   "execution_count": 19,
   "id": "a8e31bc4-1a6c-4572-a9e3-c1447220bf5b",
   "metadata": {},
   "outputs": [],
   "source": [
    "pd.testing.assert_frame_equal(\n",
    "    task1_sql.sort_values(by=\"engine\").reset_index(drop=True),\n",
    "    task1_my.sort_values(by=\"engine\").reset_index(drop=True)\n",
    ")"
   ]
  }
 ],
 "metadata": {
  "kernelspec": {
   "display_name": "Python [conda env:base] *",
   "language": "python",
   "name": "conda-base-py"
  },
  "language_info": {
   "codemirror_mode": {
    "name": "ipython",
    "version": 3
   },
   "file_extension": ".py",
   "mimetype": "text/x-python",
   "name": "python",
   "nbconvert_exporter": "python",
   "pygments_lexer": "ipython3",
   "version": "3.12.2"
  }
 },
 "nbformat": 4,
 "nbformat_minor": 5
}
