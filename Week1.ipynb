{
 "cells": [
  {
   "cell_type": "markdown",
   "id": "b4836a89-f94e-49b7-8eed-9ebf727810b6",
   "metadata": {},
   "source": [
    "# SIT731 Task 1P: BMI Analysis\n",
    "\n",
    "## Student Details  \n",
    "**Name:** Bhuvan Purushothaman Subramani<br>\n",
    "**Student Number:** 224113776<br>\n",
    "**Email:** s224113776@deakin.edu.au  <br>\n",
    "**Course:** SIT731 - Postgraduate  \n",
    "\n",
    "---\n",
    "\n",
    "## Introduction  \n",
    "This report explores **Body Mass Index (BMI)** calculations using base Python. The analysis includes **BMI categorization, visualization, and an alternative BMI measure (New BMI)**. This work demonstrates fundamental data processing and visualization skills while reflecting on BMI's limitations and implications.\n",
    "\n",
    "---\n",
    "\n",
    "## Data Input  \n",
    "We define three lists representing **names, heights (in cm), and weights (in kg)**."
   ]
  },
  {
   "cell_type": "code",
   "execution_count": 15,
   "id": "a586b1ba-96e4-48cf-b8aa-db8c5b4da5b4",
   "metadata": {},
   "outputs": [],
   "source": [
    "names=[\"bhuvan\",\"dheeraj\",\"suraj\",\"neha\",\"viki\"]\n",
    "weights=[50,60,47,50,65]\n",
    "heights = [167,150,155,170,177]"
   ]
  },
  {
   "cell_type": "markdown",
   "id": "bcb10ff0-ed34-4e85-9df2-3952bb0ba06d",
   "metadata": {},
   "source": [
    "## BMI Calculation\n",
    "\n",
    "This section calculates the BMI for each individual using the formula: **BMI = weight / (height / 100)^2** followed by calculating the New BMI for each individual using the formula: **New BMI = 1.3 * weight / (height / 100)^2.5**.\n",
    "We also assess the BMI category for each individual based on WHO guidelines \n",
    "and print a statement including BMI, BMI category, and New BMI."
   ]
  },
  {
   "cell_type": "code",
   "execution_count": 19,
   "id": "e955b964-bd73-4827-be7b-c9e4901966c7",
   "metadata": {},
   "outputs": [
    {
     "name": "stdout",
     "output_type": "stream",
     "text": [
      "1. bhuvan has BMI of 17.93 which is underweight.The new bmis is 18.04\n",
      "2. dheeraj has BMI of 26.67 which is overweight.The new bmis is 28.31\n",
      "3. suraj has BMI of 19.56 which is normal.The new bmis is 20.43\n",
      "4. neha has BMI of 17.30 which is underweight.The new bmis is 17.25\n",
      "5. viki has BMI of 20.75 which is normal.The new bmis is 20.27\n"
     ]
    }
   ],
   "source": [
    "bmis=[0]*len(names) #allocating only the required memory\n",
    "colors=[]\n",
    "newbmis =[0]*len(names)\n",
    "for i in range(len(names)):\n",
    "    bmis[i]=weights[i]/((heights[i]/100)**2)\n",
    "    newbmis[i]=1.3 *(weights[i]/((heights[i]/100)**2.5))\n",
    "    if bmis[i] < 18.5:\n",
    "        category = \"underweight\"\n",
    "        colors.append(\"blue\")\n",
    "    elif bmis[i] < 25.0:\n",
    "        category = \"normal\"\n",
    "        colors.append(\"green\")\n",
    "\n",
    "    elif bmis[i] < 30.0:\n",
    "        category = \"overweight\"\n",
    "        colors.append(\"orange\")\n",
    "\n",
    "    else:\n",
    "        category = \"obese\"\n",
    "        colors.append(\"red\")\n",
    "\n",
    "    \n",
    "    # Print formatted output\n",
    "    print(f\"{i+1}. {names[i]} has BMI of {bmis[i]:.2f} which is {category}.The new bmis is {newbmis[i]:.2f}\")"
   ]
  },
  {
   "cell_type": "markdown",
   "id": "1f0c7103-cef0-464a-997b-56cb417818d8",
   "metadata": {},
   "source": [
    "### Advantages of New BMI:\n",
    "\n",
    "New BMI is designed to possibly give a more idea of how much body fat a person has compared to the standard BMI. The change in the formula is meant to reflect body fat percentage more closely.It aims to be a more refined way to measure weight in relation to height. \n",
    "\n",
    "### Limitations of New BMI:\n",
    "\n",
    "Just like regular BMI, New BMI can't tell the difference between muscle and fat.  This means it might not be accurate for very muscular people.New BMI is not as commonly used or understood as regular BMI.  This makes it less practical in everyday situations. "
   ]
  },
  {
   "cell_type": "markdown",
   "id": "188b8dce-0ee8-4cc8-afe1-a3266db02c11",
   "metadata": {},
   "source": [
    "### Bar Plot of BMI\n",
    "\n",
    "In this section we generate a bar plot to visualize the BMI for each individual."
   ]
  },
  {
   "cell_type": "code",
   "execution_count": 14,
   "id": "7ba56b0e-c501-491d-824f-a85f563221fc",
   "metadata": {},
   "outputs": [
    {
     "data": {
      "image/png": "[encoded data removed]",
      "text/plain": [
       "<Figure size 640x480 with 1 Axes>"
      ]
     },
     "metadata": {},
     "output_type": "display_data"
    }
   ],
   "source": [
    "import matplotlib.pyplot as plt\n",
    "plt.bar(names,bmis,color=colors)\n",
    "plt.title(\"My Friends BMI\")\n",
    "plt.show()"
   ]
  },
  {
   "cell_type": "markdown",
   "id": "d4166754-acc4-443c-86dc-9e934b732b1e",
   "metadata": {},
   "source": [
    "**Discussion on BMI and New BMI**\n",
    "\n",
    "BMI is a widely used tool for assessing weight categories, but it has notable limitations. While it is quick and easy to calculate, it does not differentiate between fat and muscle. This can result in misleading classifications, particularly for people with high muscle mass or older adults with lower muscle mass.  \n",
    "\n",
    "Beyond medical use, BMI can contribute to body image concerns by oversimplifying health into a single number. Relying on it alone ignores key factors such as lifestyle, genetics, and overall well-being. In some cases, it has also been misused in areas like employment and insurance, leading to unfair judgments.  \n",
    "\n",
    "An alternative, known as the \"New BMI,\" attempts to improve accuracy by adjusting its formula to better align with body fat percentage. While this may help in identifying individuals at risk for obesity-related conditions, it still does not distinguish between fat and muscle. Additionally, its limited recognition in medical settings makes it less practical for widespread use."
   ]
  },
  {
   "cell_type": "markdown",
   "id": "48ae2be1-7157-4abd-a3d8-8be65b8f9d4c",
   "metadata": {},
   "source": [
    "## Conclusion\n",
    "This report calculated and analyzed BMI and New BMI for a group of individuals. \n",
    "While BMI is a convenient tool, it has significant limitations. New BMI attempts to address some of these. In the future, this analysis could be extended by incorporating other health metrics and exploring the impact of lifestyle factors on these indices."
   ]
  }
 ],
 "metadata": {
  "kernelspec": {
   "display_name": "Python [conda env:base] *",
   "language": "python",
   "name": "conda-base-py"
  },
  "language_info": {
   "codemirror_mode": {
    "name": "ipython",
    "version": 3
   },
   "file_extension": ".py",
   "mimetype": "text/x-python",
   "name": "python",
   "nbconvert_exporter": "python",
   "pygments_lexer": "ipython3",
   "version": "3.12.7"
  }
 },
 "nbformat": 4,
 "nbformat_minor": 5
}
